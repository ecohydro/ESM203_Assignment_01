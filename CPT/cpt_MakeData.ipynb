{
 "cells": [
  {
   "cell_type": "markdown",
   "metadata": {},
   "source": [
    "# Make Data\n",
    "Notebook to make the data for the ESM 203 Ass. 1 Fall 2020 <br>\n",
    "\n",
    "By Cascade Tuholkse (cascade.tuholske@gmail.com)"
   ]
  },
  {
   "cell_type": "code",
   "execution_count": 1,
   "metadata": {},
   "outputs": [],
   "source": [
    "#### Dir Paths\n",
    "PATH = 'data/'"
   ]
  },
  {
   "cell_type": "code",
   "execution_count": 2,
   "metadata": {},
   "outputs": [],
   "source": [
    "#### Depedencies\n",
    "import os\n",
    "from glob import glob\n",
    "import numpy as np\n",
    "import pandas as pd\n",
    "import geopandas as gpd\n",
    "import rasterio \n",
    "import rasterstats"
   ]
  },
  {
   "cell_type": "markdown",
   "metadata": {},
   "source": [
    "### Merge socioeconomic data"
   ]
  },
  {
   "cell_type": "code",
   "execution_count": 4,
   "metadata": {},
   "outputs": [],
   "source": [
    "#### Open shape files\n",
    "neighborhoods_fn = PATH+'la_county/la_county.shp'\n",
    "neighborhoods = gpd.read_file(neighborhoods_fn)"
   ]
  },
  {
   "cell_type": "code",
   "execution_count": 5,
   "metadata": {
    "scrolled": false
   },
   "outputs": [],
   "source": [
    "#### Get socioeconomic data\n",
    "se_dir = PATH+'socioeconomic/'\n",
    "fn_out = 'ESM203_F2020_SocioEcon'\n",
    "\n",
    "# get names \n",
    "df_out = neighborhoods[['Name']]\n",
    "df_out.rename(columns={'Name':'NEIGHBORHOOD'}, inplace=True) # rename col\n",
    "\n",
    "# loop through files and write out csv\n",
    "for fn in os.listdir(se_dir):\n",
    "    \n",
    "    col = fn.split('LA-')[1].split('.csv')[0] # Get col name\n",
    "    df = pd.read_csv(se_dir+fn) # open the fn\n",
    "\n",
    "    if df.shape[1] == 3:\n",
    "        df_out = df_out.merge(df.iloc[:,1:3], on = 'NEIGHBORHOOD', how = 'left') # merge \n",
    "    \n",
    "    elif df.shape[1] == 4: # crime\n",
    "        df_out = df_out.merge(df.iloc[:,1:4], on = 'NEIGHBORHOOD', how = 'left') # merge\n",
    "        df_out.rename(columns = {'PER CAPITA' : \"CRIME PER CAPITA\"}, inplace = True)\n",
    "        df_out.rename(columns = {'TOTAL' : \"CRIME TOTAL\"}, inplace = True)\n",
    "\n",
    "# write csv\n",
    "df_out.to_csv(PATH+fn_out+'.csv', index = False)\n",
    "\n",
    "# write shape file\n",
    "gdf_out = neighborhoods[['Name','geometry']]\n",
    "gdf_out.rename(columns={'Name':'NEIGHBORHOOD'}, inplace=True) # rename col\n",
    "gdf_out = df_out.merge(gdf_out, on = 'NEIGHBORHOOD', how = 'right')\n",
    "gdf_out = gpd.GeoDataFrame(gdf_out)\n",
    "gdf_out.to_file(PATH+fn_out+'.shp', index = False)\n"
   ]
  },
  {
   "cell_type": "markdown",
   "metadata": {},
   "source": [
    "### Make NDVI and LST from Landsat Scenes"
   ]
  },
  {
   "cell_type": "markdown",
   "metadata": {},
   "source": [
    "### Run zonal stats"
   ]
  },
  {
   "cell_type": "markdown",
   "metadata": {},
   "source": [
    "### Clip rasters for visualizations"
   ]
  },
  {
   "cell_type": "markdown",
   "metadata": {},
   "source": [
    "### Merge Final Data"
   ]
  }
 ],
 "metadata": {
  "kernelspec": {
   "display_name": "Python 3",
   "language": "python",
   "name": "python3"
  },
  "language_info": {
   "codemirror_mode": {
    "name": "ipython",
    "version": 3
   },
   "file_extension": ".py",
   "mimetype": "text/x-python",
   "name": "python",
   "nbconvert_exporter": "python",
   "pygments_lexer": "ipython3",
   "version": "3.7.3"
  }
 },
 "nbformat": 4,
 "nbformat_minor": 2
}
